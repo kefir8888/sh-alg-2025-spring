{
 "cells": [
  {
   "cell_type": "markdown",
   "metadata": {},
   "source": [
    "## Домашнее задание 6\n",
    "\n",
    "Это домашнее задание посвящено темам, обсужденным на занятии 10.02.25.\n",
    "\n",
    "Дедлайн по нему - 16.02.25 23:59 GMT+3 (МСК), загружать нужно в формате .ipynb в Google Classroom курса.\n"
   ]
  },
  {
   "cell_type": "markdown",
   "metadata": {},
   "source": [
    "### Задача 1\n",
    "\n",
    "Реализуйте сортировку слиянием. Можно использовать код слияния с занятия, но лучше написать его заново.\n",
    "\n",
    "Протестируйте Ваш алгоритм на нескольких примерах."
   ]
  },
  {
   "cell_type": "code",
   "execution_count": 1,
   "metadata": {},
   "outputs": [],
   "source": [
    "# YOUR CODE HERE\n",
    "\n"
   ]
  },
  {
   "cell_type": "markdown",
   "metadata": {},
   "source": [
    "### Задача 2\n",
    "\n",
    "На вход подаётся числовой массив $a$ из $n$ элементов. Требуется найти число инверсий в массиве, т.е. пар индексов $(i, j)$ таких, что $i < j$ и $a[i] > a[j]$.\n",
    "\n",
    "**Указание.** Модифицируйте алгоритм сортировки слиянием.\n",
    "\n",
    "Опишите алгоритм, докажите его корректность, оцените асимптотику, и реализуйте его на Python в следующей клетке."
   ]
  },
  {
   "cell_type": "markdown",
   "metadata": {},
   "source": [
    "YOUR MARKDOWN HERE"
   ]
  },
  {
   "cell_type": "code",
   "execution_count": null,
   "metadata": {},
   "outputs": [],
   "source": [
    "# YOUR CODE HERE\n",
    "\n"
   ]
  },
  {
   "cell_type": "markdown",
   "metadata": {},
   "source": [
    "### Задача 3\n",
    "\n",
    "Решите и сдайте на codeforces следующие задачи:\n",
    "\n",
    "https://codeforces.com/problemset/problem/1971/D\n",
    "\n",
    "https://codeforces.com/contest/2065/problem/B\n",
    "\n",
    "Скопируйте в следующую клетку ссылки на полные решения этих задач"
   ]
  },
  {
   "cell_type": "markdown",
   "metadata": {},
   "source": []
  }
 ],
 "metadata": {
  "kernelspec": {
   "display_name": "Python 3",
   "language": "python",
   "name": "python3"
  },
  "language_info": {
   "codemirror_mode": {
    "name": "ipython",
    "version": 3
   },
   "file_extension": ".py",
   "mimetype": "text/x-python",
   "name": "python",
   "nbconvert_exporter": "python",
   "pygments_lexer": "ipython3",
   "version": "3.13.1"
  }
 },
 "nbformat": 4,
 "nbformat_minor": 2
}
