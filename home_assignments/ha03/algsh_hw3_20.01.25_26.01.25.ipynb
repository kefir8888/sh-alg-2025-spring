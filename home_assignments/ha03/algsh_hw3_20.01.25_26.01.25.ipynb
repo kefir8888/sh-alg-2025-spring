{
 "cells": [
  {
   "cell_type": "markdown",
   "metadata": {},
   "source": [
    "## Домашнее задание 3\n",
    "\n",
    "Это домашнее задание посвящено темам, обсужденным на занятии 20.01.25.\n",
    "\n",
    "Дедлайн по нему - 26.01.25 23:59 GMT+3 (МСК), загружать нужно в формате .ipynb в Google Classroom курса.\n"
   ]
  },
  {
   "cell_type": "markdown",
   "metadata": {},
   "source": [
    "### Задача 1.1\n",
    "\n",
    "Реализуйте умножение матриц $2 \\times 2$ и проверьте его работоспособность, сравнив выход с матричным умножением из библиотеки numpy."
   ]
  },
  {
   "cell_type": "code",
   "execution_count": null,
   "metadata": {},
   "outputs": [],
   "source": [
    "# YOUR CODE HERE\n",
    "\n"
   ]
  },
  {
   "cell_type": "markdown",
   "metadata": {},
   "source": [
    "### Задача 1.2\n",
    "\n",
    "Реализуйте умножение матриц произвольного размера и проверьте его работоспособность, сравнив выход с матричным умножением из библиотеки numpy.\n",
    "\n",
    "Оцените асимптотику вашей функции. Постройте график времени ее работы для квадратных матриц по мере роста их размера (время от $n$ при умножении двух матриц $n \\times n$)."
   ]
  },
  {
   "cell_type": "code",
   "execution_count": null,
   "metadata": {},
   "outputs": [],
   "source": [
    "# YOUR CODE HERE\n",
    "\n"
   ]
  },
  {
   "cell_type": "markdown",
   "metadata": {},
   "source": [
    "### Задача 2\n",
    "\n",
    "Реализуйте третий из способов нахождения чисел Фибоначчи из обсужденных на занятии (быстрое возведение матрицы в степень). Найдите те входы, на которых второй метод (линейный) начинает работать слишком долго и запишите время, которое требуется третьему методу на обработку того же входа. Оцените время, которое заняло бы выполнение наивного (первого) алгоритма, в тысячах лет (запускать не нужно, все равно до дедлайна не досчитается).\n",
    "\n",
    "Можно использовать реализацию второго метода из семинара, можно написать заново.\n",
    "\n",
    "Напоминаем, что у чисел из numpy есть предельная длина, а целые числа в python обрабатываются методами длинной арифметики, то есть им переполнение не грозит."
   ]
  },
  {
   "cell_type": "code",
   "execution_count": null,
   "metadata": {},
   "outputs": [],
   "source": [
    "# YOUR CODE HERE\n",
    "\n"
   ]
  },
  {
   "cell_type": "markdown",
   "metadata": {},
   "source": [
    "### Задача 3\n",
    "\n",
    "Реализуйте вычисление \"фибоначчиевости\" из последней задачи с занятия без использования встроенной структуры данных \"множество\"."
   ]
  },
  {
   "cell_type": "code",
   "execution_count": null,
   "metadata": {},
   "outputs": [],
   "source": [
    "1 1 3 5\n",
    "\n",
    "a3 - ?\n",
    "\n",
    "1 1 0 3 5; 0\n",
    "1 1 1 3 5; 0\n",
    "1 1 2 3 5; 3 (фиб 3!)\n",
    "1 1 3 3 5; 0\n",
    "1 1 4 3 5; 0\n",
    "1 1 5 3 5; 0\n",
    "\n",
    "a1 a2 (a1 + a2) a4 a5\n",
    "\n",
    "фибоначчиевость = 3:\n",
    "1 1 2 3 5\n",
    "\n",
    "фибоначчиевость = 2:\n",
    "1 1 2 3 10\n",
    "1 1 2 8 10\n",
    "\n",
    "фибоначчиевость = 1:\n",
    "1 1 2 5 10"
   ]
  },
  {
   "cell_type": "code",
   "execution_count": 29,
   "metadata": {},
   "outputs": [
    {
     "name": "stdout",
     "output_type": "stream",
     "text": [
      "correct: 6 out of 6\n"
     ]
    }
   ],
   "source": [
    "def calc_f(a1, a2, a4, a5):\n",
    "    sum12 = a1 + a2\n",
    "    diff42 = a4 - a2\n",
    "    diff54 = a5 - a4\n",
    "\n",
    "    num_un = len({sum12, diff42, diff54})\n",
    "    \n",
    "    fib = 4 - num_un\n",
    "\n",
    "    return fib\n",
    "\n",
    "def calc_f_no_set(a1, a2, a4, a5):\n",
    "    fib = 1\n",
    "\n",
    "    sum12 = a1 + a2\n",
    "    diff42 = a4 - a2\n",
    "    diff54 = a5 - a4\n",
    "\n",
    "    # YOUR CODE HERE\n",
    "\n",
    "    \n",
    "\n",
    "    return fib\n",
    "\n",
    "inps = [[1, 1, 3, 5],\n",
    "        [1, 3, 2, 1],\n",
    "        [8, 10, 28, 100],\n",
    "        [100, 1, 100, 1],\n",
    "        [1, 100, 1, 100],\n",
    "        [100, 100, 100, 100]]\n",
    "\n",
    "ans = [3, 2, 2, 1, 1, 2]\n",
    "\n",
    "correct = 0\n",
    "\n",
    "for i, inp in enumerate(inps):\n",
    "    if (calc_f_no_set(*inp) == ans[i]):\n",
    "        correct += 1\n",
    "\n",
    "print(f\"correct: {correct} out of {len(inps)}\")"
   ]
  }
 ],
 "metadata": {
  "kernelspec": {
   "display_name": "Python 3",
   "language": "python",
   "name": "python3"
  },
  "language_info": {
   "codemirror_mode": {
    "name": "ipython",
    "version": 3
   },
   "file_extension": ".py",
   "mimetype": "text/x-python",
   "name": "python",
   "nbconvert_exporter": "python",
   "pygments_lexer": "ipython3",
   "version": "3.13.1"
  }
 },
 "nbformat": 4,
 "nbformat_minor": 2
}
