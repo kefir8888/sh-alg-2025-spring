{
 "cells": [
  {
   "cell_type": "code",
   "execution_count": 1,
   "metadata": {},
   "outputs": [
    {
     "name": "stdout",
     "output_type": "stream",
     "text": [
      "[1, 1, 1, 1, 2, 2, 2, 2, 3, 4, 4, 4]\n"
     ]
    }
   ],
   "source": [
    "#a, b in non-decreasing order\n",
    "def merge(a, b):\n",
    "    len_a = len(a)\n",
    "    len_b = len(b)\n",
    "\n",
    "    i, j = 0, 0\n",
    "    merged = []\n",
    "\n",
    "    while(i != len_a or j != len_b):\n",
    "        if (i == len_a):\n",
    "            merged.append(b[j])\n",
    "            j += 1\n",
    "\n",
    "        elif (j == len_b):\n",
    "            merged.append(a[i])\n",
    "            i += 1\n",
    "        \n",
    "        else:\n",
    "            if (a[i] > b[j]):\n",
    "                merged.append(b[j])\n",
    "                j += 1\n",
    "            \n",
    "            else:\n",
    "                merged.append(a[i])\n",
    "                i += 1\n",
    "\n",
    "    return merged\n",
    "\n",
    "a = [1, 2, 2, 2, 4, 4, 4]\n",
    "b = [1, 1, 1, 2, 3]\n",
    "\n",
    "merged = merge(a, b)\n",
    "print(merged)"
   ]
  },
  {
   "cell_type": "code",
   "execution_count": null,
   "metadata": {},
   "outputs": [],
   "source": [
    "baa\n",
    "bb\n",
    "m\n",
    "\n",
    "skibidus\n",
    "\n",
    "skibbidus\n",
    "skiiidus\n",
    "skkidus\n",
    "ssidus\n",
    "iidus\n",
    "ddus\n",
    "uus\n",
    "ss\n",
    "s"
   ]
  },
  {
   "cell_type": "code",
   "execution_count": null,
   "metadata": {},
   "outputs": [],
   "source": [
    "110101\n",
    "11|01|01\n",
    "\n",
    "алг. предполагает ответ 3\n",
    "\n",
    "110000111100000\n",
    "\n",
    "1010\n",
    "\n"
   ]
  },
  {
   "cell_type": "code",
   "execution_count": 13,
   "metadata": {},
   "outputs": [
    {
     "name": "stdout",
     "output_type": "stream",
     "text": [
      "3 True\n",
      "1 True\n",
      "1 True\n",
      "2 True\n",
      "1 True\n",
      "2 True\n",
      "4 True\n"
     ]
    }
   ],
   "source": [
    "def count_cuts(s):\n",
    "    cut_num = 1\n",
    "\n",
    "    starting_symbol = s[0]\n",
    "    exception = False\n",
    "\n",
    "    for i in range(1, len(s)):\n",
    "        if (starting_symbol == \"0\" and s[i] == \"1\" and not exception):\n",
    "            exception = True\n",
    "            starting_symbol = \"1\"\n",
    "\n",
    "        elif (starting_symbol != s[i]):\n",
    "            cut_num += 1\n",
    "            starting_symbol = s[i]\n",
    "        \n",
    "    return cut_num\n",
    "\n",
    "# def process(arr):\n",
    "#     answer = 0\n",
    "    \n",
    "#     for i in range(len(arr) - 2):\n",
    "#         if arr[i] != arr[i+1]:\n",
    "#             answer += 1\n",
    "    \n",
    "#     if answer == 0:\n",
    "#         return 1\n",
    "    \n",
    "#     if answer == 1:\n",
    "#         return 1 + (1 if arr[0] != \"0\" else 0)\n",
    "    \n",
    "#     return answer\n",
    "\n",
    "def process(arr):\n",
    "    answer = 0\n",
    "    for i in range(len(arr) - 2):\n",
    "        if arr[i] != arr[i+1]:\n",
    "            answer += 1\n",
    "    \n",
    "    if answer == 0:\n",
    "        return 1\n",
    "    if answer == 1:\n",
    "        return 1 + (1 if arr[0] != \"0\" else 0)\n",
    "    return answer\n",
    "\n",
    "s = [\"11010\\n\", \"00000000\\n\", \"1\\n\", \"10\\n\", \"0001111\\n\", \"0110\\n\", \"110101\\n\"]\n",
    "answers = [3, 1, 1, 2, 1, 2, 4]\n",
    "\n",
    "for inp, ans in zip(s, answers):\n",
    "    #outp = count_cuts(inp)\n",
    "    #print(outp, outp == ans)\n",
    "    outp = process(inp)\n",
    "    print(outp, outp == ans)\n",
    "    #print()"
   ]
  },
  {
   "cell_type": "code",
   "execution_count": 12,
   "metadata": {},
   "outputs": [
    {
     "name": "stdout",
     "output_type": "stream",
     "text": [
      "10\n"
     ]
    }
   ],
   "source": [
    "#print(\"ab\\n\\n\\ncd\\ne\")\n",
    "\n",
    "print(ord('11010\\n'))"
   ]
  }
 ],
 "metadata": {
  "kernelspec": {
   "display_name": "Python 3",
   "language": "python",
   "name": "python3"
  },
  "language_info": {
   "codemirror_mode": {
    "name": "ipython",
    "version": 3
   },
   "file_extension": ".py",
   "mimetype": "text/x-python",
   "name": "python",
   "nbconvert_exporter": "python",
   "pygments_lexer": "ipython3",
   "version": "3.13.1"
  }
 },
 "nbformat": 4,
 "nbformat_minor": 2
}
