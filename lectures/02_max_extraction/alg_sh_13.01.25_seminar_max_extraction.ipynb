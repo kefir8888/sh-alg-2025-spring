{
 "cells": [
  {
   "cell_type": "code",
   "execution_count": 9,
   "metadata": {},
   "outputs": [
    {
     "name": "stdout",
     "output_type": "stream",
     "text": [
      "lalala\n"
     ]
    }
   ],
   "source": [
    "print(\"lalala\")"
   ]
  },
  {
   "cell_type": "markdown",
   "metadata": {},
   "source": [
    "$\\frac{lala}{lalala}$"
   ]
  },
  {
   "cell_type": "code",
   "execution_count": 63,
   "metadata": {},
   "outputs": [],
   "source": [
    "import time\n",
    "\n",
    "def find_max(inp_arr):\n",
    "    m = inp_arr[0]\n",
    "\n",
    "    for i in range(1, len(inp_arr)):\n",
    "        m = max(m, inp_arr[i])\n",
    "\n",
    "        time.sleep(0.00003)\n",
    "        #print(inp_arr[i])\n",
    "\n",
    "    return m\n",
    "\n",
    "def find_max_alternative(inp_arr):\n",
    "    n = len(inp_arr)\n",
    "\n",
    "    comparison_matrix = [[0] * n for _ in range(n)]\n",
    "\n",
    "    for i in range(n):\n",
    "        for j in range(n):\n",
    "            if (inp_arr[i] >= inp_arr[j]):\n",
    "                comparison_matrix[i][j] = 1\n",
    "    \n",
    "    for i in range(n):\n",
    "        if (sum(comparison_matrix[i]) == n):\n",
    "            return inp_arr[i]\n",
    "\n",
    "inp_arr_0 = [4, 5, 6, 3, 4, 2, 1]\n",
    "\n",
    "times_s = []\n",
    "lengths_s = []\n",
    "times_a = []\n",
    "lengths_a = []\n",
    "\n",
    "for i in range(0, 14):\n",
    "    #inp_arr = inp_arr_0 * 10**i\n",
    "    inp_arr = inp_arr_0 * (50 * i + 1)\n",
    "\n",
    "    length = len(inp_arr)\n",
    "\n",
    "    start_time = time.time()\n",
    "    _ = find_max(inp_arr)\n",
    "    time_elapsed = time.time() - start_time\n",
    "    times_s.append(time_elapsed)\n",
    "    lengths_s.append(length)\n",
    "\n",
    "    start_time = time.time()\n",
    "    _ = find_max_alternative(inp_arr)\n",
    "    time_elapsed = time.time() - start_time\n",
    "    length = len(inp_arr)\n",
    "    times_a.append(time_elapsed)\n",
    "    lengths_a.append(length)\n",
    "\n",
    "    #print(length, time_elapsed)"
   ]
  },
  {
   "cell_type": "code",
   "execution_count": 64,
   "metadata": {},
   "outputs": [
    {
     "data": {
      "image/png": "[encoded data removed]",
      "text/plain": [
       "<Figure size 640x480 with 1 Axes>"
      ]
     },
     "metadata": {},
     "output_type": "display_data"
    },
    {
     "data": {
      "text/plain": [
       "[6.9141387939453125e-06,\n",
       " 0.003993988037109375,\n",
       " 0.016244173049926758,\n",
       " 0.031127214431762695,\n",
       " 0.05201315879821777,\n",
       " 0.08544397354125977,\n",
       " 0.12686491012573242,\n",
       " 0.16647911071777344,\n",
       " 0.21983909606933594,\n",
       " 0.2747650146484375,\n",
       " 0.33832883834838867,\n",
       " 0.41434192657470703,\n",
       " 0.5307090282440186,\n",
       " 0.6202151775360107]"
      ]
     },
     "execution_count": 64,
     "metadata": {},
     "output_type": "execute_result"
    }
   ],
   "source": [
    "import matplotlib.pyplot as plt\n",
    "\n",
    "#plt.xscale('log')\n",
    "#plt.yscale('log')\n",
    "plt.plot(lengths_s, times_s, 'b+')\n",
    "plt.plot(lengths_a, times_a, 'g+')\n",
    "plt.show()\n",
    "\n",
    "times"
   ]
  },
  {
   "cell_type": "code",
   "execution_count": 21,
   "metadata": {},
   "outputs": [
    {
     "name": "stdout",
     "output_type": "stream",
     "text": [
      "1736827159.966065\n",
      "1736827160.970222\n"
     ]
    }
   ],
   "source": [
    "import time\n",
    "\n",
    "print(time.time())\n",
    "\n",
    "time.sleep(1)\n",
    "\n",
    "print(time.time())"
   ]
  },
  {
   "cell_type": "code",
   "execution_count": 25,
   "metadata": {},
   "outputs": [
    {
     "data": {
      "text/plain": [
       "[1, 2, 3, 1, 2, 3]"
      ]
     },
     "execution_count": 25,
     "metadata": {},
     "output_type": "execute_result"
    }
   ],
   "source": [
    "[1, 2, 3] * 2"
   ]
  },
  {
   "cell_type": "code",
   "execution_count": 48,
   "metadata": {},
   "outputs": [
    {
     "data": {
      "text/plain": [
       "[[0, 0, 0], [0, 0, 0], [0, 0, 0]]"
      ]
     },
     "execution_count": 48,
     "metadata": {},
     "output_type": "execute_result"
    }
   ],
   "source": [
    "n = 3\n",
    "\n",
    "comparison_matrix = [[0] * n for _ in range(n)]\n",
    "\n",
    "comparison_matrix"
   ]
  },
  {
   "cell_type": "code",
   "execution_count": 51,
   "metadata": {},
   "outputs": [
    {
     "name": "stdout",
     "output_type": "stream",
     "text": [
      "max =  3\n",
      "[[1, 0, 1], [1, 1, 1], [0, 0, 1]]\n"
     ]
    }
   ],
   "source": [
    "def find_max_alternative(inp_arr):\n",
    "    n = len(inp_arr)\n",
    "\n",
    "    comparison_matrix = [[0] * n for _ in range(n)]\n",
    "\n",
    "    for i in range(n):\n",
    "        for j in range(n):\n",
    "            if (inp_arr[i] >= inp_arr[j]):\n",
    "                comparison_matrix[i][j] = 1\n",
    "    \n",
    "    for i in range(n):\n",
    "        if (sum(comparison_matrix[i]) == n):\n",
    "            print(\"max = \", inp_arr[i])\n",
    "\n",
    "            break\n",
    "\n",
    "    print(comparison_matrix)\n",
    "\n",
    "inp_arr = [2, 3, 1]\n",
    "\n",
    "find_max_alternative(inp_arr)"
   ]
  },
  {
   "cell_type": "code",
   "execution_count": null,
   "metadata": {},
   "outputs": [],
   "source": []
  }
 ],
 "metadata": {
  "kernelspec": {
   "display_name": "Python 3",
   "language": "python",
   "name": "python3"
  },
  "language_info": {
   "codemirror_mode": {
    "name": "ipython",
    "version": 3
   },
   "file_extension": ".py",
   "mimetype": "text/x-python",
   "name": "python",
   "nbconvert_exporter": "python",
   "pygments_lexer": "ipython3",
   "version": "3.13.1"
  }
 },
 "nbformat": 4,
 "nbformat_minor": 2
}
