{
 "cells": [
  {
   "cell_type": "code",
   "execution_count": 18,
   "metadata": {},
   "outputs": [
    {
     "name": "stdout",
     "output_type": "stream",
     "text": [
      "16 31 0\n",
      "31 16 1\n",
      "16 15 1\n",
      "15 1 15\n",
      "16 * 2 + 31 * -1 = 1\n"
     ]
    }
   ],
   "source": [
    "def gcd_naive(a, b):\n",
    "    print(a, b)\n",
    "    \n",
    "    if (b == 0):\n",
    "        return a\n",
    "    \n",
    "    return gcd(b, a % b)\n",
    "\n",
    "def gcd_iterative(a, b):\n",
    "    while(b != 0):\n",
    "        print(a, b)\n",
    "        \n",
    "        r = a % b        \n",
    "        a = b\n",
    "        b = r\n",
    "    \n",
    "    return a\n",
    "\n",
    "def extended_euclid(a, b):\n",
    "    frac = []\n",
    "    \n",
    "    while(b != 0):        \n",
    "        r = a % b\n",
    "        \n",
    "        #frac.append((a - r) // b) alternative\n",
    "        #frac.append((a - r) / b) alternative 2\n",
    "        fr = a // b\n",
    "        frac.append(fr)\n",
    "        \n",
    "        print(a, b, fr)\n",
    "                \n",
    "        a = b\n",
    "        b = r\n",
    "    \n",
    "    x, y = 1, 0\n",
    "    \n",
    "    for fr in frac[::-1]:\n",
    "        x_new = y\n",
    "        y_new = x - fr * y\n",
    "        \n",
    "        x, y = x_new, y_new\n",
    "    \n",
    "    return a, x, y\n",
    "\n",
    "#a, b = 55, 34\n",
    "a, b = 16, 31\n",
    "\n",
    "d, x, y = extended_euclid(a, b)\n",
    "\n",
    "print(f'{a} * {x} + {b} * {y} = {d}')"
   ]
  },
  {
   "cell_type": "code",
   "execution_count": 12,
   "metadata": {},
   "outputs": [
    {
     "data": {
      "text/plain": [
       "2"
      ]
     },
     "execution_count": 12,
     "metadata": {},
     "output_type": "execute_result"
    }
   ],
   "source": [
    "int(8 / 3)"
   ]
  },
  {
   "cell_type": "code",
   "execution_count": null,
   "metadata": {},
   "outputs": [],
   "source": []
  }
 ],
 "metadata": {
  "kernelspec": {
   "display_name": "Python 3",
   "language": "python",
   "name": "python3"
  },
  "language_info": {
   "codemirror_mode": {
    "name": "ipython",
    "version": 3
   },
   "file_extension": ".py",
   "mimetype": "text/x-python",
   "name": "python",
   "nbconvert_exporter": "python",
   "pygments_lexer": "ipython3",
   "version": "3.13.1"
  }
 },
 "nbformat": 4,
 "nbformat_minor": 2
}
