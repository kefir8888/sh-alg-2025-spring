{
 "cells": [
  {
   "cell_type": "code",
   "execution_count": 10,
   "metadata": {},
   "outputs": [
    {
     "name": "stdout",
     "output_type": "stream",
     "text": [
      "[[-1, 9], [1, 23]]\n",
      "\n",
      "[[-1  9]\n",
      " [ 1 23]]\n"
     ]
    }
   ],
   "source": [
    "import numpy as np\n",
    "\n",
    "def matrix_multiplication_2by2(a, b):\n",
    "    multiplied = [[0, 0],\n",
    "                  [0, 0]]\n",
    "    \n",
    "    multiplied[0][0] = a[0][0] * b[0][0] + a[0][1] * b[1][0]\n",
    "    multiplied[0][1] = a[0][0] * b[0][1] + a[0][1] * b[1][1]\n",
    "    multiplied[1][0] = a[1][0] * b[0][0] + a[1][1] * b[1][0]\n",
    "    multiplied[1][1] = a[1][0] * b[0][1] + a[1][1] * b[1][1]\n",
    "\n",
    "    return multiplied\n",
    "\n",
    "mat1 = [[1, 2],\n",
    "        [3, 4]]\n",
    "\n",
    "mat2 = [[3, 5],\n",
    "        [-2, 2]]\n",
    "\n",
    "multiplied = matrix_multiplication_2by2(mat1, mat2)\n",
    "print(multiplied)\n",
    "print()\n",
    "\n",
    "mat1arr = np.array(mat1)\n",
    "mat2arr = np.array(mat2)\n",
    "\n",
    "print(mat1arr @ mat2arr)"
   ]
  },
  {
   "cell_type": "code",
   "execution_count": 8,
   "metadata": {},
   "outputs": [
    {
     "name": "stdout",
     "output_type": "stream",
     "text": [
      "1\n",
      "2\n",
      "3\n",
      "4\n"
     ]
    }
   ],
   "source": [
    "mat1 = [[1, 2],\n",
    "        [3, 4]]\n",
    "\n",
    "for i in range(len(mat1)):\n",
    "    for j in range(len(mat1[0])):\n",
    "        print(mat1[i][j])"
   ]
  },
  {
   "cell_type": "code",
   "execution_count": 5,
   "metadata": {},
   "outputs": [
    {
     "name": "stdout",
     "output_type": "stream",
     "text": [
      "[]\n",
      "0\n",
      "[12, [], 1.2]\n",
      "3\n",
      "[]\n"
     ]
    }
   ],
   "source": [
    "l = []\n",
    "\n",
    "print(l)\n",
    "print(len(l))\n",
    "\n",
    "l.append(12)\n",
    "l.append([])\n",
    "l.append(1.2)\n",
    "\n",
    "print(l)\n",
    "print(len(l))\n",
    "print(l[1])\n"
   ]
  },
  {
   "cell_type": "code",
   "execution_count": 13,
   "metadata": {},
   "outputs": [
    {
     "name": "stdout",
     "output_type": "stream",
     "text": [
      "[[-1, 9, 26], [1, 23, 60], [13, 11, 6], [3, 37, 94]]\n",
      "\n",
      "[[-1  9 26]\n",
      " [ 1 23 60]\n",
      " [13 11  6]\n",
      " [ 3 37 94]]\n"
     ]
    }
   ],
   "source": [
    "def matrix_multiplication(a, b):\n",
    "    multiplied = []\n",
    "\n",
    "    n = len(a)\n",
    "\n",
    "    if (n < 1):\n",
    "        print(\"0 rows in matrix a\")\n",
    "        return multiplied\n",
    "    \n",
    "    m = len(a[0])\n",
    "\n",
    "    if (m < 1):\n",
    "        print(\"0 columns in matrix a\")\n",
    "        return multiplied\n",
    "\n",
    "    k = len(b)\n",
    "\n",
    "    if (k < 1):\n",
    "        print(\"0 rows in matrix b\")\n",
    "        return multiplied\n",
    "\n",
    "    l = len(b[0])\n",
    "\n",
    "    if (l < 1):\n",
    "        print(\"0 columns in matrix b\")\n",
    "        return multiplied\n",
    "\n",
    "    if (m != k):\n",
    "        print(\"Matrix size mismatch: \", m, k)\n",
    "        return multiplied\n",
    "\n",
    "    #output matrix n \\times l\n",
    "    for i in range(n):\n",
    "        multiplied.append([])\n",
    "\n",
    "        for j in range(l):\n",
    "            s = 0\n",
    "\n",
    "            for p in range(m):\n",
    "                s += a[i][p] * b[p][j]\n",
    "            \n",
    "            multiplied[i].append(s)\n",
    "\n",
    "    return multiplied\n",
    "\n",
    "mat1 = [[1, 2],\n",
    "        [3, 4],\n",
    "        [3, -2],\n",
    "        [5, 6]]\n",
    "\n",
    "mat2 = [[3, 5, 8],\n",
    "        [-2, 2, 9]]\n",
    "\n",
    "multiplied = matrix_multiplication(mat1, mat2)\n",
    "print(multiplied)\n",
    "print()\n",
    "\n",
    "mat1arr = np.array(mat1)\n",
    "mat2arr = np.array(mat2)\n",
    "\n",
    "print(mat1arr @ mat2arr)"
   ]
  },
  {
   "cell_type": "markdown",
   "metadata": {},
   "source": [
    "$A \\in \\mathbb{R}^{n \\times m}$\n",
    "\n",
    "$B \\in \\mathbb{R}^{m \\times k}$\n",
    "\n",
    "$C \\in \\mathbb{R}^{n \\times k}$\n",
    "\n",
    "$C_{i, j} = \\sum\\limits_{p = 1}^{m} A_{i, p} B_{p, j}$"
   ]
  },
  {
   "cell_type": "code",
   "execution_count": null,
   "metadata": {},
   "outputs": [],
   "source": [
    "!pip3 install opencv-python"
   ]
  },
  {
   "cell_type": "code",
   "execution_count": 28,
   "metadata": {},
   "outputs": [
    {
     "data": {
      "text/plain": [
       "-1"
      ]
     },
     "execution_count": 28,
     "metadata": {},
     "output_type": "execute_result"
    }
   ],
   "source": [
    "import cv2\n",
    "\n",
    "WIND_X, WIND_Y = 1100, 800\n",
    "\n",
    "canvas = np.ones((WIND_Y, WIND_X, 3), np.uint8)# * 70\n",
    "\n",
    "x, y = 200, 200\n",
    "vx, vy = 3, 5\n",
    "r = 90\n",
    "\n",
    "while (True):\n",
    "    canvas[:, :, :] = 80\n",
    "\n",
    "    cv2.circle(canvas, (x, y), r, (223, 234, 112), -1)\n",
    "    \n",
    "    x += vx\n",
    "    y += vy\n",
    "\n",
    "    if (x + r >= WIND_X or x <= r):\n",
    "        vx *= -1\n",
    "\n",
    "    if (y + r >= WIND_Y or y <= r):\n",
    "        vy *= -1\n",
    "\n",
    "    cv2.imshow(\"window\", canvas)\n",
    "\n",
    "    key = cv2.waitKey(10) & 0xFF\n",
    "\n",
    "    if (key == ord('q')):\n",
    "        break\n",
    "\n",
    "cv2.destroyAllWindows()\n",
    "cv2.waitKey(50)"
   ]
  },
  {
   "cell_type": "code",
   "execution_count": 18,
   "metadata": {},
   "outputs": [
    {
     "name": "stdout",
     "output_type": "stream",
     "text": [
      "(800, 1100, 3)\n"
     ]
    }
   ],
   "source": [
    "canvas = np.ones((WIND_Y, WIND_X, 3), np.uint8) * 70\n",
    "\n",
    "print(canvas.shape)"
   ]
  },
  {
   "cell_type": "code",
   "execution_count": 42,
   "metadata": {},
   "outputs": [
    {
     "data": {
      "text/plain": [
       "-1"
      ]
     },
     "execution_count": 42,
     "metadata": {},
     "output_type": "execute_result"
    }
   ],
   "source": [
    "import cv2\n",
    "\n",
    "WIND_X, WIND_Y = 1100, 800\n",
    "\n",
    "canvas = np.ones((WIND_Y, WIND_X, 3), np.uint8)# * 70\n",
    "\n",
    "#creating new type\n",
    "class Circle:\n",
    "    def __init__(self, x, y, r, vx, vy, color, a = 0.05):\n",
    "        self.x = x\n",
    "        self.y = y\n",
    "        self.vx = vx\n",
    "        self.vy = vy\n",
    "        self.a = a\n",
    "        self.r = r\n",
    "        self.color = color\n",
    "\n",
    "    def draw(self, canvas):\n",
    "        cv2.circle(canvas, (int(self.x), int(self.y)), self.r, self.color, -1)\n",
    "    \n",
    "    def move(self, WIND_X, WIND_Y):\n",
    "        self.vy += self.a\n",
    "\n",
    "        self.x += self.vx\n",
    "        self.y += self.vy\n",
    "\n",
    "        if (self.x + self.r >= WIND_X or self.x <= self.r):\n",
    "            self.vx *= -1\n",
    "\n",
    "        if (self.y + self.r >= WIND_Y or self.y <= self.r):\n",
    "            self.vy += self.a\n",
    "            self.vy *= -1\n",
    "\n",
    "#creating an instance of this new type\n",
    "x, y = 200, 200\n",
    "vx, vy = 3, 5\n",
    "r = 90\n",
    "color = (223, 234, 112)\n",
    "\n",
    "#circle_1 = Circle(x, y, r, vx, vy, color)\n",
    "#circle_2 = Circle(300, 400, 50, 6, 7, (52, 23, 34))\n",
    "\n",
    "circles = []\n",
    "\n",
    "while (True):\n",
    "    #canvas[:, :, :] = 80\n",
    "    canvas = cv2.addWeighted(canvas, 0.95, canvas, 0, 0)\n",
    "\n",
    "    #circle_1.move(WIND_X, WIND_Y)\n",
    "    #circle_1.draw(canvas)\n",
    "    #circle_2.move(WIND_X, WIND_Y)\n",
    "    #circle_2.draw(canvas)\n",
    "\n",
    "    for circle in circles:\n",
    "        circle.move(WIND_X, WIND_Y)\n",
    "\n",
    "    for circle in circles:\n",
    "        circle.draw(canvas)\n",
    "\n",
    "    cv2.imshow(\"window\", canvas)\n",
    "\n",
    "    key = cv2.waitKey(10) & 0xFF\n",
    "\n",
    "    if (key == ord('n')):\n",
    "        circles.append(Circle(300, 400, 5 + np.random.randint(8),\n",
    "                              np.random.randint(1), np.random.randint(7),\n",
    "                              (np.random.randint(255), np.random.randint(255), np.random.randint(255))))\n",
    "\n",
    "    if (key == ord('d')):\n",
    "        if (len(circles) > 0):\n",
    "            circles.pop()\n",
    "\n",
    "    if (key == ord('q')):\n",
    "        break\n",
    "\n",
    "cv2.destroyAllWindows()\n",
    "cv2.waitKey(50)"
   ]
  }
 ],
 "metadata": {
  "kernelspec": {
   "display_name": "Python 3",
   "language": "python",
   "name": "python3"
  },
  "language_info": {
   "codemirror_mode": {
    "name": "ipython",
    "version": 3
   },
   "file_extension": ".py",
   "mimetype": "text/x-python",
   "name": "python",
   "nbconvert_exporter": "python",
   "pygments_lexer": "ipython3",
   "version": "3.13.1"
  }
 },
 "nbformat": 4,
 "nbformat_minor": 2
}
