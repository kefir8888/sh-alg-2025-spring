{
 "cells": [
  {
   "cell_type": "markdown",
   "metadata": {},
   "source": [
    "### Префиксные суммы\n",
    "\n",
    "$a = (a_0, a_1, a_2, a_3, \\dots, a_n)$\n",
    "\n",
    "$s = (0, a_0, a_0 + a_1, a_0 + a_1 + a_2, a_0 + a_1 + a_2 + a_3, \\dots, a_0 + a_1 + \\dots + a_n)$\n",
    "\n",
    "$\\sum_{i = k}^m a_i = a_k + \\dots + a_m = s_{m+1} - s_{k}$"
   ]
  },
  {
   "cell_type": "code",
   "execution_count": 12,
   "metadata": {},
   "outputs": [
    {
     "name": "stdout",
     "output_type": "stream",
     "text": [
      "1.5569548606872559 \n",
      "\n",
      "2 15 56 56 1.9073486328125e-06 4.291534423828125e-06\n",
      "2 195 781 781 2.6226043701171875e-06 1.1920928955078125e-06\n",
      "2 1995 7978 7978 3.2901763916015625e-05 9.5367431640625e-07\n",
      "2 19995 79975 79975 0.0003409385681152344 2.1457672119140625e-06\n",
      "2 199995 799978 799978 0.0035278797149658203 3.0994415283203125e-06\n",
      "2 1999995 7999976 7999976 0.03302502632141113 1.4066696166992188e-05\n",
      "2 19999995 79999976 79999976 0.34702181816101074 1.811981201171875e-05\n"
     ]
    }
   ],
   "source": [
    "import time\n",
    "\n",
    "def simple_sum(arr, l, r):\n",
    "    s = 0\n",
    "    \n",
    "    for i in range(l, r + 1):\n",
    "        s += arr[i]\n",
    "    \n",
    "    return s\n",
    "\n",
    "def pref_sums(arr):\n",
    "    curr_sum = 0\n",
    "    ans = [0]\n",
    "    \n",
    "    for i in range(len(arr)):\n",
    "        curr_sum += arr[i]\n",
    "        ans.append(curr_sum)\n",
    "    \n",
    "    return ans\n",
    "\n",
    "def sum_by_pref_sums(pref_sums, k, m):\n",
    "    return pref_sums[m + 1] - pref_sums[k]\n",
    "\n",
    "pow = 7\n",
    "arr = [1, 2, 3, 4, 5, 6, 7] * 10**pow\n",
    "\n",
    "start_time = time.time()\n",
    "pref = pref_sums(arr)\n",
    "end_time = time.time()\n",
    "print(end_time - start_time, \"\\n\")\n",
    "\n",
    "for p in range(1, 8):\n",
    "    start_ind = 2\n",
    "    fin_index = start_ind * 10**p - 5\n",
    "    \n",
    "    start_time1 = time.time()\n",
    "    s1 = simple_sum(arr, start_ind, fin_index)\n",
    "    end_time1 = time.time()\n",
    "\n",
    "    start_time2 = time.time()\n",
    "    s2 = sum_by_pref_sums(pref, start_ind, fin_index)\n",
    "    end_time2 = time.time()\n",
    "    \n",
    "    print(start_ind, fin_index, s1, s2, end_time1 - start_time1, end_time2 - start_time2)"
   ]
  },
  {
   "cell_type": "code",
   "execution_count": 13,
   "metadata": {},
   "outputs": [
    {
     "name": "stdout",
     "output_type": "stream",
     "text": [
      "[0, 1, 3, 6, 10, 15, 21, 28]\n",
      "9\n",
      "9\n"
     ]
    }
   ],
   "source": [
    "arr = [1, 2, 3, 4, 5, 6, 7]\n",
    "\n",
    "def pref_sums(arr):\n",
    "    curr_sum = 0\n",
    "    ans = [0]\n",
    "    \n",
    "    for i in range(len(arr)):\n",
    "        curr_sum += arr[i]\n",
    "        ans.append(curr_sum)\n",
    "    \n",
    "    return ans\n",
    "\n",
    "def sum_by_pref_sums(pref_sums, k, m):\n",
    "    return pref_sums[m + 1] - pref_sums[k]\n",
    "\n",
    "pref = pref_sums(arr)\n",
    "\n",
    "print(pref)\n",
    "\n",
    "print(simple_sum(arr, 1, 3))\n",
    "s = sum_by_pref_sums(pref, 1, 3)\n",
    "\n",
    "print(s)"
   ]
  },
  {
   "cell_type": "code",
   "execution_count": null,
   "metadata": {},
   "outputs": [],
   "source": []
  }
 ],
 "metadata": {
  "kernelspec": {
   "display_name": "Python 3",
   "language": "python",
   "name": "python3"
  },
  "language_info": {
   "codemirror_mode": {
    "name": "ipython",
    "version": 3
   },
   "file_extension": ".py",
   "mimetype": "text/x-python",
   "name": "python",
   "nbconvert_exporter": "python",
   "pygments_lexer": "ipython3",
   "version": "3.13.1"
  }
 },
 "nbformat": 4,
 "nbformat_minor": 2
}
