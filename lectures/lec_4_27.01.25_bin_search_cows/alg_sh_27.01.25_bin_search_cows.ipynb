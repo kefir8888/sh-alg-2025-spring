{
 "cells": [
  {
   "cell_type": "code",
   "execution_count": 13,
   "metadata": {},
   "outputs": [
    {
     "name": "stdout",
     "output_type": "stream",
     "text": [
      "1 1499 750 >\n",
      "1 750 375 >\n",
      "1 375 188 >\n",
      "1 188 94 >\n",
      "1 94 47 >\n",
      "1 47 24 >\n",
      "1 24 12 >\n",
      "1 12 6 <\n",
      "7 12 9 <\n",
      "10 12 11 >\n",
      "10 11 10 =\n",
      "10\n"
     ]
    }
   ],
   "source": [
    "N = 1499\n",
    "x = 10\n",
    "\n",
    "def oracle(a):\n",
    "    if (a > x):\n",
    "        return \">\"\n",
    "    \n",
    "    elif (a < x):\n",
    "        return \"<\"\n",
    "    \n",
    "    return \"=\"\n",
    "\n",
    "l = 1\n",
    "r = N\n",
    "\n",
    "# l = 2, r = 3\n",
    "\n",
    "while (True):\n",
    "    #if (r - l == 0):\n",
    "    #   break\n",
    "\n",
    "    #ask oracle\n",
    "    \n",
    "    mid = (r + l) // 2\n",
    "    answer = oracle(mid)\n",
    "    \n",
    "    print(l, r, mid, answer)\n",
    "    \n",
    "    if (answer == \"=\"):\n",
    "        l = mid\n",
    "        break\n",
    "    \n",
    "    elif (answer == \">\"):\n",
    "        r = mid\n",
    "    \n",
    "    else:\n",
    "        l = mid + 1\n",
    "\n",
    "print(l)"
   ]
  },
  {
   "cell_type": "code",
   "execution_count": 1,
   "metadata": {},
   "outputs": [
    {
     "data": {
      "text/plain": [
       "1"
      ]
     },
     "execution_count": 1,
     "metadata": {},
     "output_type": "execute_result"
    }
   ],
   "source": [
    "(3 - 0) // 2"
   ]
  },
  {
   "cell_type": "markdown",
   "metadata": {},
   "source": []
  },
  {
   "cell_type": "code",
   "execution_count": 22,
   "metadata": {},
   "outputs": [
    {
     "name": "stdout",
     "output_type": "stream",
     "text": [
      "3 1 2 4 \n"
     ]
    }
   ],
   "source": [
    "n = 4\n",
    "m = 1\n",
    "\n",
    "#cows = [[0, 4, 2],\n",
    "#        [1, 5, 3]]\n",
    "\n",
    "#cows = [[1, 5, 3],\n",
    "#        [0, 4, 2]]\n",
    "\n",
    "#cows = [[0]]\n",
    "\n",
    "cows = [[1], [2], [0], [3]]\n",
    "\n",
    "def check_cows(n, m, cows):\n",
    "    permutation = [0] * n\n",
    "\n",
    "    for i in range(n):\n",
    "        permutation[cows[i][0] % n] = i + 1\n",
    "\n",
    "        for j in range(m - 1):\n",
    "            if ((cows[i][j] - cows[i][j + 1]) % n != 0):\n",
    "                return [-1]\n",
    "    \n",
    "    return permutation\n",
    "\n",
    "perm = check_cows(n, m, cows)\n",
    "\n",
    "perm_str = \"\"\n",
    "\n",
    "for el in perm:\n",
    "    perm_str += str(el) + \" \"\n",
    "\n",
    "print(perm_str)"
   ]
  },
  {
   "cell_type": "code",
   "execution_count": null,
   "metadata": {},
   "outputs": [],
   "source": []
  }
 ],
 "metadata": {
  "kernelspec": {
   "display_name": "Python 3",
   "language": "python",
   "name": "python3"
  },
  "language_info": {
   "codemirror_mode": {
    "name": "ipython",
    "version": 3
   },
   "file_extension": ".py",
   "mimetype": "text/x-python",
   "name": "python",
   "nbconvert_exporter": "python",
   "pygments_lexer": "ipython3",
   "version": "3.13.1"
  }
 },
 "nbformat": 4,
 "nbformat_minor": 2
}
